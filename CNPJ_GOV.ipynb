{
  "nbformat": 4,
  "nbformat_minor": 0,
  "metadata": {
    "colab": {
      "provenance": [],
      "mount_file_id": "1P7wx27XyEc_oapLFdPVkC00TbCrQXUwk",
      "authorship_tag": "ABX9TyMOty0wLoHVK6xPcOWD3XJG",
      "include_colab_link": true
    },
    "kernelspec": {
      "name": "python3",
      "display_name": "Python 3"
    },
    "language_info": {
      "name": "python"
    }
  },
  "cells": [
    {
      "cell_type": "markdown",
      "metadata": {
        "id": "view-in-github",
        "colab_type": "text"
      },
      "source": [
        "<a href=\"https://colab.research.google.com/github/marcelocmsimioni/Projects/blob/master/CNPJ_GOV.ipynb\" target=\"_parent\"><img src=\"https://colab.research.google.com/assets/colab-badge.svg\" alt=\"Open In Colab\"/></a>"
      ]
    },
    {
      "cell_type": "code",
      "source": [
        "#Limpa Variaveis\n",
        "for arquivos in list(globals().keys()):\n",
        "   del globals()[arquivos]\n"
      ],
      "metadata": {
        "id": "ZUHWdAX20GBE"
      },
      "execution_count": 136,
      "outputs": []
    },
    {
      "cell_type": "code",
      "source": [
        "#importa pacotes\n",
        "import os\n",
        "import requests\n",
        "import zipfile\n",
        "import shutil\n",
        "import csv\n",
        "import pandas as pd\n"
      ],
      "metadata": {
        "id": "V2ZbIJgD2Z00"
      },
      "execution_count": 137,
      "outputs": []
    },
    {
      "cell_type": "code",
      "source": [
        "#Define Listas e Variaveis\n",
        "arquivos = [\"Cnaes\"]#,\"Motivos\",\"Municipios\",\"Naturezas\",\"Paises\",\"Qualificacoes\"]\n",
        "empresas=[\"Empresas0\",\"Empresas1\",\"Empresas2\",\"Empresas3\",\"Empresas4\",\"Empresas5\",\"Empresas6\",\"Empresas7\",\"Empresas8\",\"Empresas9\"]\n",
        "estabelecimentos=[\"Estabelecimentos0\",\"Estabelecimentos1\",\"Estabelecimentos2\",\"Estabelecimentos3\",\"Estabelecimentos4\",\"Estabelecimentos5\",\"Estabelecimentos6\",\"Estabelecimentos7\",\"Estabelecimentos8\",\"Estabelecimentos9\"]\n",
        "socios=[\"Socios0\",\"Socios1\",\"Socios2\",\"Socios3\",\"Socios4\",\"Socios5\",\"Socios6\",\"Socios7\",\"Socios8\",\"Socios9\"]\n",
        "periodo = \"2025-06\""
      ],
      "metadata": {
        "id": "dE2uF3cenocT"
      },
      "execution_count": 138,
      "outputs": []
    },
    {
      "cell_type": "code",
      "source": [
        "# Caminho de destino\n",
        "destino = r\"C:\\Users\\marce\\OneDrive\\Desktop\\Python\\Dados CNPJ - GOV\\Arquivos\""
      ],
      "metadata": {
        "id": "813jeDkZn14r"
      },
      "execution_count": 112,
      "outputs": []
    },
    {
      "cell_type": "code",
      "source": [
        "def convert_to_utf8(input_file, output_file):\n",
        "    try:\n",
        "        # Open the input file with its original encoding\n",
        "        with open(input_file, mode='r', encoding='latin-1') as infile:  # Adjust encoding if needed\n",
        "            # Read the content\n",
        "            reader = csv.reader(infile, delimiter=';')\n",
        "            rows = list(reader)\n",
        "\n",
        "        # Write the content to the output file in UTF-8 encoding\n",
        "        with open(output_file, mode='w', encoding='utf-8', newline='') as outfile:\n",
        "            writer = csv.writer(outfile, delimiter=',')\n",
        "            writer.writerows(rows)\n",
        "\n",
        "        print(f\"File successfully converted to UTF-8 and saved as '{output_file}'\")\n",
        "    except Exception as e:\n",
        "        print(f\"An error occurred: {e}\")\n",
        "\n",
        "\n",
        "\n",
        "def processar_arquivo(arquivo_nome):\n",
        "  #inicio do recursivo\n",
        "  print(f\"🔄 Processando: {arquivo_nome}\")\n",
        "\n",
        "  #Define nomes padrões\n",
        "  url = \"https://arquivos.receitafederal.gov.br/dados/cnpj/dados_abertos_cnpj/\" + periodo + \"/\" + arquivo_nome + \".zip\"\n",
        "\n",
        "  zip_path = f\"{arquivo_nome}.zip\"\n",
        "  File_name= f\"{arquivo_nome}.csv\"\n",
        "\n",
        "  #puxa Zip\n",
        "  response = requests.get(url)\n",
        "  with open(zip_path, 'wb') as f:f.write(response.content)\n",
        "\n",
        "  #Descompacta e renomeia arquivo\n",
        "  with zipfile.ZipFile(zip_path, 'r') as zip_ref:\n",
        "    zip_ref.extractall(\".\")\n",
        "  original_file= zip_ref.namelist()[0]\n",
        "  convert_to_utf8(original_file, File_name)\n",
        "\n",
        "  #Deleta arquivo ZIP\n",
        "  os.remove (zip_path)\n",
        "\n",
        "  print(f\"✅ Concluído: {File_name}\\n\")\n",
        "\n",
        "for item in arquivos:\n",
        "  processar_arquivo(item)\n"
      ],
      "metadata": {
        "colab": {
          "base_uri": "https://localhost:8080/"
        },
        "id": "mUYSnhekpuj3",
        "outputId": "7655b444-5168-4587-c88c-404f6e070fd6"
      },
      "execution_count": 139,
      "outputs": [
        {
          "output_type": "stream",
          "name": "stdout",
          "text": [
            "🔄 Processando: Cnaes\n",
            "File successfully converted to UTF-8 and saved as 'Cnaes.csv'\n",
            "✅ Concluído: Cnaes.csv\n",
            "\n"
          ]
        }
      ]
    },
    {
      "cell_type": "code",
      "source": [
        "df = pd.read_csv('/content/Cnaes.csv')\n",
        "print(df.head())"
      ],
      "metadata": {
        "colab": {
          "base_uri": "https://localhost:8080/"
        },
        "id": "rLf-tLcB69JZ",
        "outputId": "59d18ca3-ff45-4d4e-de74-3edb0b5be0fb"
      },
      "execution_count": 140,
      "outputs": [
        {
          "output_type": "stream",
          "name": "stdout",
          "text": [
            "   0111301                                   Cultivo de arroz\n",
            "0   111302                                   Cultivo de milho\n",
            "1   111303                                   Cultivo de trigo\n",
            "2   111399  Cultivo de outros cereais não especificados an...\n",
            "3   112101                        Cultivo de algodão herbáceo\n",
            "4   112102                                    Cultivo de juta\n"
          ]
        }
      ]
    }
  ]
}